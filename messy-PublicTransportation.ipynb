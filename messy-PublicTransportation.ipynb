{
 "cells": [
  {
   "cell_type": "markdown",
   "metadata": {},
   "source": [
    "Dataset URL: https://data.transportation.gov/Public-Transit/Transit-System-Time-Series/h3hh-wfqt/data\n",
    "\n",
    "Background Information:\n",
    "\n",
    "Important resources:\n",
    "\n",
    "https://www.transit.dot.gov/sites/fta.dot.gov/files/2020-12/2019-NTST-1-1_0.pdf - 2019 report\n",
    "https://www.reginfo.gov/public/do/DownloadDocument?objectID=66669801 - 2013 reporting guide\n",
    "\n",
    " "
   ]
  },
  {
   "cell_type": "markdown",
   "metadata": {},
   "source": [
    "General formatting rules:\n",
    "\n",
    "Round all financial data to the nearest dollar;\n",
    "• Follow other rounding directions for each form;\n",
    "• Unless otherwise indicated, report data as whole numbers; and\n",
    "• Use four digits for year entries\n",
    "4 digit NTD ID\n",
    "According to a 2013 report: \n",
    "\"Each reporter is assigned a unique four-digit NTD Identification Number, which is to be used in all NTD reports and correspondence. The first digit of the NTD ID corresponds to the FTA Region where the reporter is located (e.g., 9### indicates Region IX).\"\n",
    "Agency \n",
    "https://www.transit.dot.gov/ntd/transit-agency-profiles\n",
    "Reporter Type\n",
    "\n",
    "-Small Systems \n",
    "\n",
    "-Waiver Reporters\n",
    "\n",
    "-Planning Grant Reporters\n",
    "\n",
    "-Capital Grant Reporters\n",
    "\n",
    "-Full Annual Reporters\n"
   ]
  },
  {
   "cell_type": "markdown",
   "metadata": {},
   "source": [
    "Important column labels:\n",
    "\n",
    "Primary UZA Code\n",
    "\n",
    "--urbanuzed area\n",
    "\n",
    "The U.S. Census Bureau defines UZAs based on incorporated places (e.g., cities, towns,\n",
    "villages) and their adjacent areas. For more information, visit the U.S. Census website.\n",
    "For the purpose of transit grants, FTA also designates the Virgin Islands and Lake Tahoe\n",
    "as UZAs.\n",
    "\n",
    "In the NTD, transit providers indicate the primary UZA of service operations as their\n",
    "“primary UZA” along with any secondary UZAs they serve. For analysis purposes, the\n",
    "NTST groups UZAs into the following categories:\n",
    "\n",
    "• Small UZAs: population of 50,000 to 200,000.\n",
    "\n",
    "• Medium UZAs: population of 200,000 to 1 million.\n",
    "\n",
    "• Large UZAs: population over 1 million.\n",
    "\n",
    "Of all Urban Reporters, approximately 35 percent agencies primarily serve a small UZA\n",
    "(35 percent), 26 percent primarily serve a medium UZA, and 39 percent primarily serve a\n",
    "large UZA.\n",
    "\n",
    "Primary UZA Name\n",
    "\n",
    "Year\n",
    "\n",
    "Total Vehicle Operations Cost\n",
    "\n",
    "Total Vehicle Maintenance Cost\n",
    "\n",
    "Total Facility Maintenance Cost\n",
    "\n",
    "Total General Administration Cost\n",
    "\n",
    "Total Operating Expenses\n",
    "\n",
    "Total ADA Cost\n",
    "\n",
    "Total Capital Expenses\n",
    "\n",
    "Total DO Mode Fares\n",
    "\n",
    "Total PT Mode Fares\n",
    "\n",
    "Total of Fares\n",
    "\n",
    "Park and Ride Revenue (Earned Only)\n",
    "\n",
    "Other Transportation Revenue (Earned Only)\n",
    "\n",
    "Auxiliary Revenue-Concessions (Earned Only)\n",
    "\n",
    "Auxiliary Revenue-Advertising (Earned Only)\n",
    "\n",
    "Auxiliary Revenue-Other (Earned Only)\n",
    "\n",
    "Total Auxiliary Revenue (Earned Only, N-P)\n",
    "\n",
    "Non-Transportation Revenue (Earned Only)\n",
    "\n",
    "Total Park & Ride, Other Trans., Auxiliary, & Non-Trans. Expenditures (K-S)\n",
    "\n",
    "PT Agmt with NTD Reporter Revenue\n",
    "\n",
    "PT Agmt with Non-NTD Reporter Revenue\n",
    "\n",
    "Contributed Services\n",
    "\n",
    "Subsidy from Other Sector Amount\n",
    "\n",
    "Donations Amount (RR)\n",
    "\n",
    "Contract Revenue Amount (RR)\n",
    "\n",
    "Total Recoveries\n",
    "\n",
    "State Transportation Funds\n",
    "\n",
    "Income Taxes (Earned Only)\n",
    "\n",
    "Sales Taxes (Earned Only)\n",
    "\n",
    "Property Taxes (Earned Only)\n",
    "\n",
    "Gasoline Taxes (Earned Only)\n",
    "\n",
    "Other Taxes (Earned Only)\n",
    "\n",
    "Bridge, Tunnel, and Highway Tolls (Earned Only)\t\n",
    "\n",
    "High Occupancy Tolls (Earned Only)\t\n",
    "\n",
    "Other Dedicated Funds (Earned Only)\t\n",
    "\n",
    "Total Vehicles/Passenger Cars Available for Maximum Service\t\n",
    "\n",
    "Total Actual Vehicle/Passenger Car Revenue Miles\t\n",
    "\n",
    "Total Actual Vehicle/Passenger Car Revenue Hours\t\n",
    "\n",
    "Total Train Revenue Miles\t\n",
    "\n",
    "Total Train Revenue Hours\t\n",
    "\n",
    "Total Unlinked Passenger Trips (UPT)\t\n",
    "\n",
    "Total ADA UPT\t\n",
    "\n",
    "Total Passenger Miles\t\n",
    "\n",
    "Total Mixed Traffic Right of Way (ROW) Directional Route Miles\t\n",
    "\n",
    "Total Directional Route Miles\t\n",
    "\n",
    "Total Hours Worked\t\n",
    "\n",
    "Total Employee Count\t\n",
    "\n",
    "Total Track Miles\t\n",
    "\n",
    "Total Crossings\t\n",
    "\n",
    "Total Bus Lane Miles\t\n",
    "\n",
    "Total Revenue Vehicle System Failures\t\n",
    "\n",
    "Total Assets\t\n",
    "\n",
    "Liabilities: Long Term Debt\t\n",
    "\n",
    "Total Liabilities\t\n",
    "\n",
    "Total Current Assets\t\n",
    "\n",
    "Total Noncurrent Assets\t\n",
    "\n",
    "Total Assets (1000)\t\n",
    "\n",
    "Total Current Liabilities\t\n",
    "\n",
    "Total Noncurrent Liabilities\t\n",
    "\n",
    "Total Liabilities (2000)\t\n",
    "\n"
   ]
  },
  {
   "cell_type": "markdown",
   "metadata": {},
   "source": [
    "Visualizations:\n",
    "-Heatmap of a specific UZA and its revenue or other demographic related information\n",
    "\n",
    "-Line plots of debt/assets/revenue (earned from taxes or other means) over time\n",
    "\n",
    "-Can try to look at profit with given information (would need to look over 2019s analysis in order to calculate the formula)\n",
    "\n",
    "-Maybe another trend analysis?\n",
    "\n",
    "-Maybe ANOVA test or similar signficance test with revenue/debt and specific costs/earnings\n"
   ]
  },
  {
   "cell_type": "code",
   "execution_count": 107,
   "metadata": {},
   "outputs": [
    {
     "data": {
      "text/html": [
       "<div>\n",
       "<style scoped>\n",
       "    .dataframe tbody tr th:only-of-type {\n",
       "        vertical-align: middle;\n",
       "    }\n",
       "\n",
       "    .dataframe tbody tr th {\n",
       "        vertical-align: top;\n",
       "    }\n",
       "\n",
       "    .dataframe thead th {\n",
       "        text-align: right;\n",
       "    }\n",
       "</style>\n",
       "<table border=\"1\" class=\"dataframe\">\n",
       "  <thead>\n",
       "    <tr style=\"text-align: right;\">\n",
       "      <th></th>\n",
       "      <th>5 digit NTD ID</th>\n",
       "      <th>4 digit NTD ID</th>\n",
       "      <th>Agency</th>\n",
       "      <th>Reporter Type</th>\n",
       "      <th>Subrecipient Type</th>\n",
       "      <th>Organization Type</th>\n",
       "      <th>Agency Total Fleet Vehicles</th>\n",
       "      <th>Primary UZA Code</th>\n",
       "      <th>Primary UZA Name</th>\n",
       "      <th>Primary  UZA Area SQ Miles</th>\n",
       "      <th>...</th>\n",
       "      <th>Long-Term Debt (2210)</th>\n",
       "      <th>Noncurrent Accounts Payable (2220)</th>\n",
       "      <th>Capital Lease Obligations (2230)</th>\n",
       "      <th>Long-Term Pension Liabilities (2240)</th>\n",
       "      <th>Estimated Liabilities (2250)</th>\n",
       "      <th>Other Noncurrent Liabilities (2290)</th>\n",
       "      <th>Total Noncurrent Liabilities</th>\n",
       "      <th>Total Liabilities (2000)</th>\n",
       "      <th>Deferred Outflows Of Resources  (3100)</th>\n",
       "      <th>Net Position (3000)</th>\n",
       "    </tr>\n",
       "  </thead>\n",
       "  <tbody>\n",
       "    <tr>\n",
       "      <th>16478</th>\n",
       "      <td>A0020-55643</td>\n",
       "      <td>NaN</td>\n",
       "      <td>Marielders, Inc.</td>\n",
       "      <td>Reduced Asset Reporter</td>\n",
       "      <td>Asset Subrecipient</td>\n",
       "      <td>Private-Non-Profit Corporation</td>\n",
       "      <td>0</td>\n",
       "      <td>NaN</td>\n",
       "      <td>NaN</td>\n",
       "      <td>NaN</td>\n",
       "      <td>...</td>\n",
       "      <td>NaN</td>\n",
       "      <td>NaN</td>\n",
       "      <td>NaN</td>\n",
       "      <td>NaN</td>\n",
       "      <td>NaN</td>\n",
       "      <td>NaN</td>\n",
       "      <td>NaN</td>\n",
       "      <td>NaN</td>\n",
       "      <td>NaN</td>\n",
       "      <td>NaN</td>\n",
       "    </tr>\n",
       "    <tr>\n",
       "      <th>16479</th>\n",
       "      <td>A0020-55646</td>\n",
       "      <td>NaN</td>\n",
       "      <td>Maple Knoll Communities</td>\n",
       "      <td>Reduced Asset Reporter</td>\n",
       "      <td>Asset Subrecipient</td>\n",
       "      <td>Private-Non-Profit Corporation</td>\n",
       "      <td>0</td>\n",
       "      <td>NaN</td>\n",
       "      <td>NaN</td>\n",
       "      <td>NaN</td>\n",
       "      <td>...</td>\n",
       "      <td>NaN</td>\n",
       "      <td>NaN</td>\n",
       "      <td>NaN</td>\n",
       "      <td>NaN</td>\n",
       "      <td>NaN</td>\n",
       "      <td>NaN</td>\n",
       "      <td>NaN</td>\n",
       "      <td>NaN</td>\n",
       "      <td>NaN</td>\n",
       "      <td>NaN</td>\n",
       "    </tr>\n",
       "    <tr>\n",
       "      <th>16480</th>\n",
       "      <td>A0020-55647</td>\n",
       "      <td>NaN</td>\n",
       "      <td>Clermont County Board of Developmental Disabil...</td>\n",
       "      <td>Reduced Asset Reporter</td>\n",
       "      <td>Asset Subrecipient</td>\n",
       "      <td>Private-Non-Profit Corporation</td>\n",
       "      <td>0</td>\n",
       "      <td>NaN</td>\n",
       "      <td>NaN</td>\n",
       "      <td>NaN</td>\n",
       "      <td>...</td>\n",
       "      <td>NaN</td>\n",
       "      <td>NaN</td>\n",
       "      <td>NaN</td>\n",
       "      <td>NaN</td>\n",
       "      <td>NaN</td>\n",
       "      <td>NaN</td>\n",
       "      <td>NaN</td>\n",
       "      <td>NaN</td>\n",
       "      <td>NaN</td>\n",
       "      <td>NaN</td>\n",
       "    </tr>\n",
       "    <tr>\n",
       "      <th>16481</th>\n",
       "      <td>A0021</td>\n",
       "      <td>NaN</td>\n",
       "      <td>City of Tucson</td>\n",
       "      <td>Group Plan Sponsor</td>\n",
       "      <td>NaN</td>\n",
       "      <td>City, County or Local Government Unit or Depar...</td>\n",
       "      <td>0</td>\n",
       "      <td>52.0</td>\n",
       "      <td>Tucson, AZ</td>\n",
       "      <td>353.0</td>\n",
       "      <td>...</td>\n",
       "      <td>NaN</td>\n",
       "      <td>NaN</td>\n",
       "      <td>NaN</td>\n",
       "      <td>NaN</td>\n",
       "      <td>NaN</td>\n",
       "      <td>NaN</td>\n",
       "      <td>NaN</td>\n",
       "      <td>NaN</td>\n",
       "      <td>NaN</td>\n",
       "      <td>NaN</td>\n",
       "    </tr>\n",
       "    <tr>\n",
       "      <th>16482</th>\n",
       "      <td>A0022</td>\n",
       "      <td>NaN</td>\n",
       "      <td>San Luis Obispo Regional Transit Authority</td>\n",
       "      <td>Group Plan Sponsor</td>\n",
       "      <td>NaN</td>\n",
       "      <td>Independent Public Agency or Authority of Tran...</td>\n",
       "      <td>0</td>\n",
       "      <td>447.0</td>\n",
       "      <td>San Luis Obispo, CA</td>\n",
       "      <td>20.0</td>\n",
       "      <td>...</td>\n",
       "      <td>NaN</td>\n",
       "      <td>NaN</td>\n",
       "      <td>NaN</td>\n",
       "      <td>NaN</td>\n",
       "      <td>NaN</td>\n",
       "      <td>NaN</td>\n",
       "      <td>NaN</td>\n",
       "      <td>NaN</td>\n",
       "      <td>NaN</td>\n",
       "      <td>NaN</td>\n",
       "    </tr>\n",
       "  </tbody>\n",
       "</table>\n",
       "<p>5 rows × 198 columns</p>\n",
       "</div>"
      ],
      "text/plain": [
       "      5 digit NTD ID 4 digit NTD ID  \\\n",
       "16478    A0020-55643            NaN   \n",
       "16479    A0020-55646            NaN   \n",
       "16480    A0020-55647            NaN   \n",
       "16481          A0021            NaN   \n",
       "16482          A0022            NaN   \n",
       "\n",
       "                                                  Agency  \\\n",
       "16478                                   Marielders, Inc.   \n",
       "16479                            Maple Knoll Communities   \n",
       "16480  Clermont County Board of Developmental Disabil...   \n",
       "16481                                     City of Tucson   \n",
       "16482         San Luis Obispo Regional Transit Authority   \n",
       "\n",
       "                Reporter Type   Subrecipient Type  \\\n",
       "16478  Reduced Asset Reporter  Asset Subrecipient   \n",
       "16479  Reduced Asset Reporter  Asset Subrecipient   \n",
       "16480  Reduced Asset Reporter  Asset Subrecipient   \n",
       "16481      Group Plan Sponsor                 NaN   \n",
       "16482      Group Plan Sponsor                 NaN   \n",
       "\n",
       "                                       Organization Type  \\\n",
       "16478                     Private-Non-Profit Corporation   \n",
       "16479                     Private-Non-Profit Corporation   \n",
       "16480                     Private-Non-Profit Corporation   \n",
       "16481  City, County or Local Government Unit or Depar...   \n",
       "16482  Independent Public Agency or Authority of Tran...   \n",
       "\n",
       "       Agency Total Fleet Vehicles  Primary UZA Code     Primary UZA Name  \\\n",
       "16478                            0               NaN                  NaN   \n",
       "16479                            0               NaN                  NaN   \n",
       "16480                            0               NaN                  NaN   \n",
       "16481                            0              52.0           Tucson, AZ   \n",
       "16482                            0             447.0  San Luis Obispo, CA   \n",
       "\n",
       "       Primary  UZA Area SQ Miles  ...  Long-Term Debt (2210)  \\\n",
       "16478                         NaN  ...                    NaN   \n",
       "16479                         NaN  ...                    NaN   \n",
       "16480                         NaN  ...                    NaN   \n",
       "16481                       353.0  ...                    NaN   \n",
       "16482                        20.0  ...                    NaN   \n",
       "\n",
       "       Noncurrent Accounts Payable (2220)  Capital Lease Obligations (2230)  \\\n",
       "16478                                 NaN                               NaN   \n",
       "16479                                 NaN                               NaN   \n",
       "16480                                 NaN                               NaN   \n",
       "16481                                 NaN                               NaN   \n",
       "16482                                 NaN                               NaN   \n",
       "\n",
       "      Long-Term Pension Liabilities (2240)  Estimated Liabilities (2250)  \\\n",
       "16478                                  NaN                           NaN   \n",
       "16479                                  NaN                           NaN   \n",
       "16480                                  NaN                           NaN   \n",
       "16481                                  NaN                           NaN   \n",
       "16482                                  NaN                           NaN   \n",
       "\n",
       "       Other Noncurrent Liabilities (2290)  Total Noncurrent Liabilities  \\\n",
       "16478                                  NaN                           NaN   \n",
       "16479                                  NaN                           NaN   \n",
       "16480                                  NaN                           NaN   \n",
       "16481                                  NaN                           NaN   \n",
       "16482                                  NaN                           NaN   \n",
       "\n",
       "      Total Liabilities (2000) Deferred Outflows Of Resources  (3100)  \\\n",
       "16478                      NaN                                    NaN   \n",
       "16479                      NaN                                    NaN   \n",
       "16480                      NaN                                    NaN   \n",
       "16481                      NaN                                    NaN   \n",
       "16482                      NaN                                    NaN   \n",
       "\n",
       "      Net Position (3000)  \n",
       "16478                 NaN  \n",
       "16479                 NaN  \n",
       "16480                 NaN  \n",
       "16481                 NaN  \n",
       "16482                 NaN  \n",
       "\n",
       "[5 rows x 198 columns]"
      ]
     },
     "execution_count": 107,
     "metadata": {},
     "output_type": "execute_result"
    }
   ],
   "source": [
    "# import dataset\n",
    "import pandas as pd\n",
    "import geopy\n",
    "import geopy.geocoders\n",
    "from geopy.extra.rate_limiter import RateLimiter\n",
    "\n",
    "api_key = \"\" #Insert Google API key here\n",
    "df = pd.read_csv('Transit_System_Time_Series.csv',low_memory = False)\n",
    "df.tail()"
   ]
  },
  {
   "cell_type": "code",
   "execution_count": 2,
   "metadata": {},
   "outputs": [
    {
     "name": "stdout",
     "output_type": "stream",
     "text": [
      "Washington Non-UZA\n"
     ]
    }
   ],
   "source": [
    "#heatmap\n",
    "\n",
    "#Clean data\n",
    "df['Primary UZA Name'].value_counts()\n",
    "citydf = df[['Primary UZA Name']].dropna()\n",
    "citydf = citydf.drop_duplicates()\n",
    "citydf.columns = ['Primary UZA Name']\n",
    "print(citydf['Primary UZA Name'][46])"
   ]
  },
  {
   "cell_type": "code",
   "execution_count": 11,
   "metadata": {},
   "outputs": [
    {
     "name": "stdout",
     "output_type": "stream",
     "text": [
      "0\n"
     ]
    }
   ],
   "source": [
    "#Heatmap\n",
    "#need to geocode the names: https://towardsdatascience.com/geocode-with-python-161ec1e62b89\n",
    "from geopy.geocoders import Nominatim\n",
    "locator = Nominatim(user_agent = \"myGeocoder\")\n",
    "geocode = RateLimiter(locator.geocode, min_delay_seconds=1)\n",
    "location = []\n",
    "for city in citydf['Primary UZA Name']:\n",
    "    l = locator.geocode(city)\n",
    "    if(l != None):\n",
    "        location.append(l)\n",
    "locationdf = pd.DataFrame(location)\n",
    "locationdf.columns = ['location','coordinates']\n",
    "#locationdf = locationdf.apply(lambda loc: tuple(loc.point) if loc else None)\n",
    "#locationdf['point'] = citydf['location'].apply(lambda loc: tuple(loc.point) if loc else None)\n",
    "#citydf[['latitude', 'longitude', 'altitude']] = pd.DataFrame(citydf['point'].tolist(), index=citydf.index)\n",
    "print('0')"
   ]
  },
  {
   "cell_type": "code",
   "execution_count": 109,
   "metadata": {
    "scrolled": false
   },
   "outputs": [
    {
     "data": {
      "application/vnd.jupyter.widget-view+json": {
       "model_id": "1fe58ea4c045491fb608600059a1cc66",
       "version_major": 2,
       "version_minor": 0
      },
      "text/plain": [
       "Figure(layout=FigureLayout(height='420px'))"
      ]
     },
     "metadata": {},
     "output_type": "display_data"
    }
   ],
   "source": [
    "import gmaps\n",
    "import gmaps.datasets\n",
    "#jupyter labextension install @jupyter-widgets/jupyterlab-manager\n",
    "#jupyter lab build\n",
    "#only works on jupyter notebook\n",
    "gmaps.configure(api_key=api_key)\n",
    "fig = gmaps.figure()\n",
    "fig.add_layer(gmaps.heatmap_layer(locationdf['coordinates']))\n",
    "fig"
   ]
  },
  {
   "cell_type": "markdown",
   "metadata": {},
   "source": [
    "Analysis from 2019 report with definitions and charts that can be redone with full time series set:\n",
    "\n",
    "Operating Expense Funding Sources (pie chart)\n",
    "\n",
    "Capital Expense Funding Sources (pie chart)\n",
    "\n",
    "Urban Transit Service Provided and Consumed (bar graph of each mode of transport)\n",
    "Service Efficiency (bar graph):\n",
    "\n",
    "-One way to look at service efficiency is to calculate the cost per hour for each mode. Cost\n",
    "per hour is calculated by dividing Total Operating Expenses by VRH\n",
    "\n",
    "Cost Effectiveness (bar graph):\n",
    "\n",
    "-UPT is one way to measure service consumed by the riding public. It gives equal weight\n",
    "to passengers making short and long trips. PMT, however, gives more weight to longer\n",
    "trips than shorter trips\n",
    "\n",
    "Can categorize UZAs into small and large for heatmap (they have a series of pie charts for this, but can be converted to heatmaps)\n",
    "\n",
    "Sources of Funding by UZA Size (pie charts)\n",
    "\n",
    "Rural Operating and Capital Funding (table)"
   ]
  },
  {
   "cell_type": "code",
   "execution_count": 103,
   "metadata": {},
   "outputs": [
    {
     "data": {
      "image/png": "[encoded data removed]",
      "text/plain": [
       "<Figure size 432x288 with 1 Axes>"
      ]
     },
     "metadata": {
      "needs_background": "light"
     },
     "output_type": "display_data"
    }
   ],
   "source": [
    "#Total capital expenses (could help the government visualize the change in time)\n",
    "import matplotlib.pyplot as plt\n",
    "df['Total Capital Expenses'].value_counts()\n",
    "federaldf = df['Total Capital Expenses']\n",
    "plt.bar(df['Year'],df['Total Capital Expenses'])\n",
    "plt.xlabel('Year')\n",
    "plt.show()\n",
    "import pymannkendall as mk\n",
    "capitalexpdf = df.groupby(df['Year'])['Total Capital Expenses'].sum()\n",
    "capitalexpdf\n",
    "trend = mk.original_test(capitalexpdf)"
   ]
  },
  {
   "cell_type": "code",
   "execution_count": 104,
   "metadata": {},
   "outputs": [
    {
     "name": "stdout",
     "output_type": "stream",
     "text": [
      "Mann_Kendall_Test(trend='increasing', h=True, p=0.008534920414227098, z=2.630142022557628, Tau=1.0, s=15.0, var_s=28.333333333333332, slope=984864093.5, intercept=17329354225.75)\n"
     ]
    }
   ],
   "source": [
    "print(trend)"
   ]
  },
  {
   "cell_type": "code",
   "execution_count": 31,
   "metadata": {},
   "outputs": [
    {
     "name": "stdout",
     "output_type": "stream",
     "text": [
      "0        2018\n",
      "1        2019\n",
      "2        2019\n",
      "3        2019\n",
      "4        2018\n",
      "         ... \n",
      "16478    2019\n",
      "16479    2019\n",
      "16480    2019\n",
      "16481    2019\n",
      "16482    2019\n",
      "Name: Year, Length: 16483, dtype: int64\n"
     ]
    }
   ],
   "source": [
    "print(df['Year'])"
   ]
  },
  {
   "cell_type": "code",
   "execution_count": 36,
   "metadata": {},
   "outputs": [
    {
     "data": {
      "text/plain": [
       "0.0         6484\n",
       "45002.0       18\n",
       "31338.0       12\n",
       "51652.0       10\n",
       "22206.0        9\n",
       "            ... \n",
       "34517.0        1\n",
       "92817.0        1\n",
       "193827.0       1\n",
       "48457.0        1\n",
       "77878.0        1\n",
       "Name: Total Capital Expenses, Length: 8155, dtype: int64"
      ]
     },
     "execution_count": 36,
     "metadata": {},
     "output_type": "execute_result"
    }
   ],
   "source": [
    "federaldf.value_counts()"
   ]
  },
  {
   "cell_type": "code",
   "execution_count": 41,
   "metadata": {},
   "outputs": [
    {
     "data": {
      "text/plain": [
       "Year\n",
       "2014    1.767648e+10\n",
       "2015    1.947541e+10\n",
       "2016    1.964620e+10\n",
       "2017    1.993682e+10\n",
       "2018    2.154597e+10\n",
       "2019    2.441191e+10\n",
       "Name: Total Capital Expenses, dtype: float64"
      ]
     },
     "execution_count": 41,
     "metadata": {},
     "output_type": "execute_result"
    }
   ],
   "source": [
    "df.groupby(df['Year'])['Total Capital Expenses'].sum()\n"
   ]
  },
  {
   "cell_type": "markdown",
   "metadata": {},
   "source": [
    "Operationalize- Is there a demand for public transportation? (rewrite to be what is the demand for public transportation? How much distance has been traveled due to passengers and how much money was earned by fares (an indirect measure of how many people are buying tickets, can also conduct trend analysis-i.e. is there a decline in use for public transportation?)\n",
    "\n",
    "(use Urban Transit Service Provided and Consumed description from report)\n",
    "\n",
    "-Passenger Miles Traveled (PMT) is the total number of miles traveled by all passengers\n",
    "on a service.\n",
    "\n",
    "-Total of Fares over time\n",
    "\n",
    "-Service Effectiveness\n",
    "\n",
    "One way to look at service effectiveness is to calculate passengers per hour—this reflects\n",
    "how many passengers per vehicle are riding during a single hour of revenue service.\n",
    "Passengers per hour is calculated by dividing UPT by Vehicle Revenue Hours (VRH).\n",
    "\n",
    "Are public programs worth their cost? (rewrite as what does the NTA cost? What does it cost in terms of taxes and federal funds?)\n",
    "\n",
    "-Calculate earned money (from funds and revenue) and subtract spent amount (simplistic but possibly effective)\n",
    "\n",
    "What are some of the flaws of the program? (Scrap the question, replace with How prevalent is the NTA, where is used? Where is used most often?)\n",
    "\n",
    "-Can use geomaps as heatmaps to portray its various locations and even population density\n",
    "\n",
    "Make sure to refer back to 2019 report as source material"
   ]
  },
  {
   "cell_type": "code",
   "execution_count": 44,
   "metadata": {},
   "outputs": [
    {
     "data": {
      "text/plain": [
       "<AxesSubplot:xlabel='Year'>"
      ]
     },
     "execution_count": 44,
     "metadata": {},
     "output_type": "execute_result"
    },
    {
     "data": {
      "image/png": "[encoded data removed]",
      "text/plain": [
       "<Figure size 432x288 with 1 Axes>"
      ]
     },
     "metadata": {
      "needs_background": "light"
     },
     "output_type": "display_data"
    }
   ],
   "source": [
    "#Passenger Miles Traveled (PMT) is the total number of miles traveled by all passengers on a service.\n",
    "df.groupby(df['Year'])['Total Passenger Miles'].sum().plot(kind='bar')\n"
   ]
  },
  {
   "cell_type": "code",
   "execution_count": 55,
   "metadata": {},
   "outputs": [
    {
     "data": {
      "text/plain": [
       "<AxesSubplot:xlabel='Year'>"
      ]
     },
     "execution_count": 55,
     "metadata": {},
     "output_type": "execute_result"
    },
    {
     "data": {
      "image/png": "[encoded data removed]",
      "text/plain": [
       "<Figure size 432x288 with 1 Axes>"
      ]
     },
     "metadata": {
      "needs_background": "light"
     },
     "output_type": "display_data"
    }
   ],
   "source": [
    "df.groupby(df['Year'])['Total of Fares'].sum().plot(kind='bar')\n",
    "\n",
    "#Shows a drop from 2018 to 2019, is this significant? And is this considered a trend?"
   ]
  },
  {
   "cell_type": "code",
   "execution_count": 67,
   "metadata": {},
   "outputs": [
    {
     "name": "stdout",
     "output_type": "stream",
     "text": [
      "      Total of Fares\n",
      "Year                \n",
      "2014    1.516400e+10\n",
      "2015    1.565220e+10\n",
      "2016    1.579010e+10\n",
      "2017    1.583913e+10\n",
      "2018    1.589064e+10\n",
      "2019    1.194470e+10\n",
      "Mann_Kendall_Test(trend='no trend', h=False, p=0.4523703606773608, z=0.7514691493021795, Tau=0.3333333333333333, s=5.0, var_s=28.333333333333332, slope=51503872.0, intercept=15592386697.0)\n"
     ]
    }
   ],
   "source": [
    "# trend analysis\n",
    "faredf = pd.DataFrame(df.groupby(df['Year'])['Total of Fares'].sum())\n",
    "print(faredf)\n",
    "trend = mk.original_test(faredf['Total of Fares'])\n",
    "print(trend)"
   ]
  },
  {
   "cell_type": "code",
   "execution_count": 74,
   "metadata": {},
   "outputs": [
    {
     "data": {
      "text/plain": [
       "0.24831824128331528"
      ]
     },
     "execution_count": 74,
     "metadata": {},
     "output_type": "execute_result"
    }
   ],
   "source": [
    "#How big of a difference between 2018 to 2019?\n",
    "f = faredf['Total of Fares'].tolist()\n",
    "percent = (abs(f[5]-f[4]))/f[4]\n",
    "percent"
   ]
  },
  {
   "cell_type": "code",
   "execution_count": 93,
   "metadata": {},
   "outputs": [],
   "source": [
    "#easier way\n",
    "percentchange = pd.DataFrame(faredf['Total of Fares'].pct_change())\n",
    "p = percentchange['Total of Fares'].tolist()"
   ]
  },
  {
   "cell_type": "code",
   "execution_count": 100,
   "metadata": {},
   "outputs": [
    {
     "name": "stdout",
     "output_type": "stream",
     "text": [
      "-25.04325955780404 -24.620388698859013\n",
      "The difference is statistically significant\n"
     ]
    }
   ],
   "source": [
    "# Method for calculating significant percent change provided by census data\n",
    "#https://www2.census.gov/programs-surveys/acs/tech_docs/accuracy/percchg.pdf\n",
    "from scipy.stats import sem\n",
    "import math\n",
    "\n",
    "stderrordf = pd.DataFrame(df.groupby(df['Year'])['Total of Fares'].sem())\n",
    "stderrordf\n",
    "s = stderrordf['Total of Fares'].tolist()\n",
    "#Final equation for standard error of percentage: absolute value(2019value/2018value)*(Squareroot(se2019^2/2019value^2+se2018^2/2018value^2)*100\n",
    "multipliers = 100*abs(f[5]/f[4])\n",
    "root = math.sqrt(s[5]**2/f[5]**2 + s[4]**2/f[4]**2)\n",
    "psterror = multipliers*root\n",
    "lowerb = p[5]*100 - 1.65*psterror\n",
    "upperb = p[5]*100 + 1.65*psterror\n",
    "print(lowerb, upperb)\n",
    "#Note from method: If both lb and ub have the same sign (that is both are positive or both are negative),then the percent change is statistically significant.\n",
    "if((lowerb<0 and upperb<0)):\n",
    "    print(\"The difference is statistically significant\")"
   ]
  },
  {
   "cell_type": "code",
   "execution_count": 118,
   "metadata": {},
   "outputs": [
    {
     "name": "stdout",
     "output_type": "stream",
     "text": [
      "140218470445.0\n",
      "413454656785.0\n"
     ]
    }
   ],
   "source": [
    "#Are public programs worth their cost? (rewrite as what does public transit cost? What does it cost in terms of taxes and federal funds?)\n",
    "\n",
    "#-Calculate earned money (from funds and revenue) and subtract spent amount (simplistic but possibly effective)\n",
    "\n",
    "\n",
    "#Income columns: Total of Fares, Park and Ride Revenue (Earned Only), Other Transportation Revenue (Earned Only), Total Auxiliary Revenue (Earned Only, N-P),\n",
    "#Non-Transportation Revenue (Earned Only),PT Agmt with NTD Reporter Revenue, PT Agmt with Non-NTD Reporter Revenue, Donations Amount (RR),\n",
    "#Contract Revenue Amount (RR), Other Directly Generated Funds, Revenue from General Fund, Income Taxes (Earned Only),\n",
    "#Sales Taxes (Earned Only),Property Taxes (Earned Only),Gasoline Taxes (Earned Only), Other Taxes (Earned Only),Bridge, Tunnel, and Highway Tolls (Earned Only)\n",
    "#High Occupancy Tolls (Earned Only), Other Dedicated Funds (Earned Only)\n",
    "\n",
    "#Spent amount: Total Vehicle Operations Cost, Total Vehicle Operations Cost, Total Facility Maintenance Cost, Total General Administration Cost, \n",
    "#Total Operating Expenses, Total ADA Cost, Total Capital Expenses, Total Park & Ride, Other Trans., Auxiliary, & Non-Trans. Expenditures (K-S),\n",
    "\n",
    "\n",
    "\n",
    "#calculating earnings:\n",
    "earnings = 0\n",
    "cost = 0\n",
    "for name in df.columns:\n",
    "    if \"Earned Only\" in name:\n",
    "        earnings = earnings + df[name].sum()\n",
    "    elif \"Cost\" in name:\n",
    "        cost = cost + df[name].sum()\n",
    "earnings = earnings - df['Total Auxiliary Revenue (Earned Only, N-P)'].sum()\n",
    "print(earnings)\n",
    "cost = cost + df['Total Capital Expenses'].sum() + df['Total Park & Ride, Other Trans., Auxiliary, & Non-Trans. Expenditures (K-S)'].sum()\n",
    "print(cost)\n",
    "profit = earnings - cost\n",
    "\n",
    "\n",
    "#Can maybe do it over a couple years?"
   ]
  },
  {
   "cell_type": "code",
   "execution_count": 133,
   "metadata": {},
   "outputs": [
    {
     "data": {
      "image/png": "[encoded data removed]",
      "text/plain": [
       "<Figure size 432x288 with 1 Axes>"
      ]
     },
     "metadata": {
      "needs_background": "light"
     },
     "output_type": "display_data"
    },
    {
     "name": "stdout",
     "output_type": "stream",
     "text": [
      "Mann_Kendall_Test(trend='decreasing', h=True, p=0.008534920414227098, z=-2.630142022557628, Tau=-1.0, s=-15.0, var_s=28.333333333333332, slope=-3414103731.6, intercept=-33283139457.0)\n"
     ]
    }
   ],
   "source": [
    "\n",
    "def profit(data):\n",
    "    earnings = 0\n",
    "    cost = 0\n",
    "    for name in data.columns:\n",
    "        if \"Earned Only\" in name:\n",
    "            earnings = earnings + data[name].sum()\n",
    "        elif \"Cost\" in name:\n",
    "            cost = cost + data[name].sum()\n",
    "    earnings = earnings - data['Total Auxiliary Revenue (Earned Only, N-P)'].sum()\n",
    "    cost = cost + data['Total Capital Expenses'].sum() + data['Total Park & Ride, Other Trans., Auxiliary, & Non-Trans. Expenditures (K-S)'].sum()\n",
    "    profit = earnings - cost\n",
    "    return profit\n",
    "\n",
    "df2014 = df.loc[(df['Year'] == 2014)]\n",
    "df2015 = df.loc[(df['Year'] == 2015)]\n",
    "df2016 = df.loc[(df['Year'] == 2016)]\n",
    "df2017 = df.loc[(df['Year'] == 2017)]\n",
    "df2018 = df.loc[(df['Year'] == 2018)]\n",
    "df2019 = df.loc[(df['Year'] == 2019)]\n",
    "pr = [profit(df2014),profit(df2015),profit(df2016),profit(df2017),profit(df2018),profit(df2019)]\n",
    "plt.plot([2014,2015,2016,2017,2018,2019],pr)\n",
    "plt.show()\n",
    "# trend anaysis\n",
    "trend = mk.original_test(pr)\n",
    "print(trend)"
   ]
  },
  {
   "cell_type": "code",
   "execution_count": null,
   "metadata": {},
   "outputs": [],
   "source": [
    "#What are some of the flaws of the program? (Scrap the question, replace with How prevalent is the NTA, where is used?)\n",
    "#-Can use geomaps as heatmaps to portray its various locations and even population density\n",
    "\n",
    "#• Small UZAs: population of 50,000 to 200,000.\n",
    "\n",
    "#• Medium UZAs: population of 200,000 to 1 million.\n",
    "\n",
    "#• Large UZAs: population over 1 million.\n",
    "\n",
    "#Maybe use geomaps to portray which places have the lowest and highest profits\n",
    "\n",
    "\n",
    "\n",
    "\n",
    "\n",
    "\n",
    "\n",
    "\n",
    "\n",
    "\n"
   ]
  }
 ],
 "metadata": {
  "kernelspec": {
   "display_name": "Python 3",
   "language": "python",
   "name": "python3"
  },
  "language_info": {
   "codemirror_mode": {
    "name": "ipython",
    "version": 3
   },
   "file_extension": ".py",
   "mimetype": "text/x-python",
   "name": "python",
   "nbconvert_exporter": "python",
   "pygments_lexer": "ipython3",
   "version": "3.8.5"
  }
 },
 "nbformat": 4,
 "nbformat_minor": 4
}
