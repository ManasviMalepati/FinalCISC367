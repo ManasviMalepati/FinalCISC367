{
 "cells": [
  {
   "cell_type": "raw",
   "metadata": {},
   "source": [
    "#### Title: A Measure of National Public Transportation\n",
    "#### Problem: \n",
    "An evaluation of public transportation in the United States\n",
    "\n",
    "#### Background: \n",
    "Consider this: You have just heard about a family emergency in Trenton and need to start as soon as possible from Newark. Currently, by car, the trip will take around one hour and 34 minutes. However, you are not able to afford a car right now and instead have to use public transportation. With this switch, the total time is now seven hours and 54 minutes. In order to make it to Trenton, you would first have to take the number 10 bus to Wilmington from 9:50 PM to 10:48 PM. The next possible train in Wilmington that is heading to Trenton is at 4:49 am which means you would have to find lodging until the next day in order to make the next train. The train will take 54 minutes and the entire trip will result in a total of two hours of actual travel. It is at 5:43 am the next day that you are finally able to reach your destination, well past the time it would be if you had a car.\n",
    "\n",
    "You also would have had more freedom and control in planning your schedule and would not have had to reach a specific destination by a specific time in order to change transportation modes. The discrepancies between these two methods are strong and it becomes even more frustrating when the fact is that other countries have been able to organize public transportation without any of the deficits. This brings up the question: Why is our public transportation system different? And how can we fix it?\n",
    "\n",
    "The first step in finding the answers to these questions is by looking through the data provided by the National Transit Database (NTD) and learning more about how our current system works and who it actually benefits/effects. \n",
    "\n",
    "#### Research Question 1: \n",
    "\n",
    "Where is public transportation offered?\n",
    "\n",
    "\n",
    "This is an important question to ask since finding a demand for a service will allow policymakers to see whether the cost of the program is worth the demand for it. In order to truly evaluate the importance of public transportation, we must study the necessity and that necessity can be measured by demand. In the \"Evaluating Public Transit Benefits and Costs\" by Todd Litman, there is an entire section dedicated to defining how to measure \"Transit Demand,\" showing that demand is an important variable to examine when properly evaluating public transportation services. Litman also mentions the many variables that go into affecting demand, including: \"Demographic Factors\", \"Geographic Factors\", \"Socioeconomic Factors\", \"Transit Service Quality\", \"Transit Orientation Pattern\", and \"Transit Fare.\" It is important to ask this question because demand encompasses many important details about public transportation that should be studied in order to properly evaluate the public system.\n",
    "\n",
    "Are public programs worth their cost?\n",
    "\n",
    "Public programs are funded by the government and as a result, by taxpayer money. This means that a large portion of the population is concerned about their money going to programs that do not require any additional compensation. In order to combat this concern, it is important to ask the question of: is this program worth the funding? According to the CDC's Program Evaluation Guide, a major part of evaluating a program is to look at \"Cost-Effectiveness,\" which they define with the question \"Does the value or benefit of achieving your program’s goals and objectives exceed the cost of producing them?\" The major focus of this question is about the \"cost\" of the program and how that matches with the results produced by the program. This means that the worth of the program is measured by cost and is extremely important in understanding how well a program is doing.\n",
    "\n",
    "What are some of the flaws of the program?\n",
    "\n",
    "Part of evaluating a program is highlighting the issues of the program in order to see whether those issues are fixable or not, which can decide whether the program should be funded or not and result in information that can influence policies in the future. As Bernado Mueller states in the abstract of his research study \"Why public policies fail: Policymaking under complexity,\" \"...when dealing with complex systems... it is nevertheless necessary to adjust the expectations of what can realistically be achieved.\" This means that part of looking into a program is understanding the real world limitations of its inital plan and being able to identify those flaws. Once you identify those flaws, you get a complex and realistic view of the program in action which is really important to consider when evaluating the importance of a program.\n",
    "\n",
    "#### Link for dataset: \n",
    "\n",
    "https://data.transportation.gov/Public-Transit/Transit-System-Time-Series/h3hh-wfqt\n",
    "\n",
    "#### Description of dataset:\n",
    "\n",
    "The dataset includes information collected by the National Transit Database from 2014 onwards. It includes over 190 columns including: Agency, Year, Total Operations Cost, Total Vehicle Maintainence Cost, Total Operating Expenses, and Total of Fares. The dataset's information is organized by NTD id which tracks the specific agency from which the data is collected/reported.\n",
    "\n",
    "#### Ethical concerns: \n",
    "\n",
    "One of the main ethical concerns in studying this dataset is the fact that this dataset is directly connected to helping either justify or condemn the funding of a national public program. Depending on the findings of this analysis, the funding for a program that benefits millions of people can be cut down and result in many people losing the ability to travel.\n",
    "\n",
    "Customers are not the only people who would be affected by a lack of funding. Those who are employed by the transportation services will lose their jobs which can affect their livelihoods.\n"
   ]
  },
  {
   "cell_type": "code",
   "execution_count": null,
   "metadata": {},
   "outputs": [],
   "source": []
  }
 ],
 "metadata": {
  "kernelspec": {
   "display_name": "Python 3",
   "language": "python",
   "name": "python3"
  },
  "language_info": {
   "codemirror_mode": {
    "name": "ipython",
    "version": 3
   },
   "file_extension": ".py",
   "mimetype": "text/x-python",
   "name": "python",
   "nbconvert_exporter": "python",
   "pygments_lexer": "ipython3",
   "version": "3.8.5"
  }
 },
 "nbformat": 4,
 "nbformat_minor": 4
}
